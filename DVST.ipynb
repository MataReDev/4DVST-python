{
 "cells": [
  {
   "cell_type": "markdown",
   "source": [
    "# Imports et Références"
   ],
   "metadata": {
    "collapsed": false
   },
   "id": "e492d4b0deb6e8df"
  },
  {
   "cell_type": "code",
   "outputs": [],
   "source": [
    "import pandas as pd\n",
    "import numpy as np\n",
    "import matplotlib.pyplot as plt\n",
    "import seaborn as sns\n",
    "import plotly.express as px\n",
    "import ipywidgets as widgets\n",
    "from matplotlib.ticker import FuncFormatter\n",
    "\n",
    "data = pd.read_excel('publications_scientifiques_par_pays.xlsx')"
   ],
   "metadata": {
    "collapsed": false
   },
   "id": "initial_id",
   "execution_count": null
  },
  {
   "cell_type": "markdown",
   "source": [
    "# 1. Le nuage de points entre le nombre moyen de documents produits par an et le nombre moyen de citations par an, pour chaque pays"
   ],
   "metadata": {
    "collapsed": false
   },
   "id": "aeaa8ac7bcf979b1"
  },
  {
   "cell_type": "code",
   "outputs": [],
   "source": [
    "mean_docs_citations = data.groupby('Country').agg({\n",
    "    'Documents': 'mean',\n",
    "    'Citations': 'mean',\n",
    "    'Rank': 'median',\n",
    "    'H.index': 'mean'\n",
    "}).reset_index().rename(columns={\n",
    "    'Documents': 'Mean_Documents',\n",
    "    'Citations': 'Mean_Citations',\n",
    "    'Rank': 'Median_Rank',\n",
    "    'H.index': 'Mean_H_index'\n",
    "})\n",
    "\n",
    "sizes = np.clip(mean_docs_citations['Mean_H_index'] * 10, 10, 200)\n",
    "\n",
    "norm = plt.Normalize(mean_docs_citations['Median_Rank'].min(), mean_docs_citations['Median_Rank'].max())\n",
    "colors = plt.cm.plasma_r(norm(mean_docs_citations['Median_Rank']))\n",
    "\n",
    "extreme_docs = pd.concat([\n",
    "    mean_docs_citations.nlargest(5, 'Mean_Documents'),\n",
    "    mean_docs_citations.nsmallest(5, 'Mean_Documents')\n",
    "])\n",
    "\n",
    "extreme_cites = pd.concat([\n",
    "    mean_docs_citations.nlargest(5, 'Mean_Citations'),\n",
    "    mean_docs_citations.nsmallest(5, 'Mean_Citations')\n",
    "])\n",
    "\n",
    "extreme_values = pd.concat([extreme_docs, extreme_cites]).drop_duplicates()\n",
    "\n",
    "def format_fn(tick_val, tick_pos):\n",
    "    if int(tick_val) in [1, 10, 100, 1000, 10000, 100000, 1000000, 10000000]:\n",
    "        return int(tick_val)\n",
    "    else:\n",
    "        return ''\n",
    "\n",
    "plt.figure(figsize=(20, 15))\n",
    "scatter = plt.scatter(mean_docs_citations['Mean_Documents'], mean_docs_citations['Mean_Citations'],\n",
    "                      c=colors, s=sizes, alpha=0.6, edgecolor='black', linewidth=0.5)\n",
    "\n",
    "plt.xscale('log')\n",
    "plt.yscale('log')\n",
    "\n",
    "plt.gca().xaxis.set_major_formatter(FuncFormatter(format_fn))\n",
    "plt.gca().yaxis.set_major_formatter(FuncFormatter(format_fn))\n",
    "\n",
    "for i, row in extreme_values.iterrows():\n",
    "    plt.annotate(row['Country'], \n",
    "                 (row['Mean_Documents'], row['Mean_Citations']),\n",
    "                 fontsize=9, ha='right', va='center')\n",
    "\n",
    "plt.axhline(mean_docs_citations['Mean_Citations'].mean(), color='red', linestyle='--', label='Moyenne des citations')\n",
    "plt.axvline(mean_docs_citations['Mean_Documents'].mean(), color='blue', linestyle='--', label='Moyenne des documents')\n",
    "\n",
    "plt.title('Nuage de points par Pays : Documents Moyens vs Citations Moyennes')\n",
    "plt.xlabel('Nombre moyen de documents produits par an (log scale)')\n",
    "plt.ylabel('Nombre moyen de citations par an (log scale)')\n",
    "plt.colorbar(scatter, label='Rang Médian des Pays')\n",
    "plt.legend()\n",
    "\n",
    "plt.show()"
   ],
   "metadata": {
    "collapsed": false
   },
   "id": "ca21985fb64e9381",
   "execution_count": null
  },
  {
   "cell_type": "markdown",
   "source": [
    "# 2. Une représentation graphique de l’évolution des rangs des pays, uniquement sur les 10 premiers rangs, avec le pays en 1er en haut"
   ],
   "metadata": {
    "collapsed": false
   },
   "id": "fd10bfbdf32f5be5"
  },
  {
   "cell_type": "code",
   "outputs": [],
   "source": [
    "top_ranks = data[data['Rank'] <= 10]\n",
    "\n",
    "# les années en index et les pays en colonnes avec leurs rangs\n",
    "pivot_data = top_ranks.pivot(index='Year', columns='Country', values='Rank')\n",
    "\n",
    "# le premier rang soit en haut\n",
    "pivot_data_sorted = pivot_data.sort_values(by=pivot_data.index[0], axis=1, ascending=True)\n",
    "\n",
    "colormap = plt.cm.get_cmap('tab20', len(pivot_data_sorted.columns))\n",
    "country_colors = {country: colormap(i) for i, country in enumerate(pivot_data_sorted.columns)}\n",
    "\n",
    "plt.figure(figsize=(20, 10))\n",
    "\n",
    "labeled_countries = set()\n",
    "\n",
    "countries = pivot_data_sorted.columns.tolist()\n",
    "\n",
    "for country in countries:\n",
    "    line_data = pivot_data_sorted[country].dropna()\n",
    "    plt.plot(line_data.index, line_data, color=country_colors[country], marker='o')\n",
    "\n",
    "    # si la ligne est isolée, ajouter l'étiquette lors de la première apparition\n",
    "    if len(line_data) <= 3 and line_data.index[0] > pivot_data_sorted.index[0]:\n",
    "        if country not in labeled_countries:\n",
    "            plt.text(line_data.index[0], line_data.iloc[0], ' ' + country,\n",
    "                     verticalalignment='center', horizontalalignment='left',\n",
    "                     color=country_colors[country], fontsize=12)\n",
    "            labeled_countries.add(country)\n",
    "\n",
    "for country in countries:\n",
    "    line_data = pivot_data_sorted[country].dropna()\n",
    "    if not line_data.empty:\n",
    "        end_year = line_data.index[-1]\n",
    "        last_rank = line_data.iloc[-1]\n",
    "        if country not in labeled_countries:\n",
    "            offset = 0.3 if last_rank <= 5 else -0.3\n",
    "            plt.text(end_year + 0.2, last_rank + offset, country,\n",
    "                     verticalalignment='center', color=country_colors[country], fontsize=12)\n",
    "            labeled_countries.add(country)\n",
    "            \n",
    "plt.gca().invert_yaxis()\n",
    "\n",
    "plt.xticks(pivot_data_sorted.index)\n",
    "plt.yticks(np.arange(1, 11, 1))\n",
    "\n",
    "plt.xlabel('Année', fontsize=14)\n",
    "plt.ylabel('Rang', fontsize=14)\n",
    "plt.title('Evolution du classement du top 10 des pays au fil des années', fontsize=16)\n",
    "\n",
    "plt.legend().remove()\n",
    "plt.tight_layout()\n",
    "plt.show()"
   ],
   "metadata": {
    "collapsed": false
   },
   "id": "1cc0ca46a74f4f43",
   "execution_count": null
  },
  {
   "cell_type": "markdown",
   "source": [
    "# 2 BIS. Une représentation graphique de l’évolution des rangs des pays, uniquement sur les 10 premiers rangs, avec le pays en 1er en haut"
   ],
   "metadata": {
    "collapsed": false
   },
   "id": "8164138b1b38fb57"
  },
  {
   "cell_type": "code",
   "outputs": [],
   "source": [
    "top_countries = data[data['Rank'] <= 10]\n",
    "\n",
    "plt.figure(figsize=(15, 8))\n",
    "sns.lineplot(data=top_countries, x='Year', y='Rank', hue='Country', palette='Set1', marker='o')\n",
    "\n",
    "plt.xlabel('Année')\n",
    "plt.ylabel('Rang')\n",
    "plt.title('Evolution du classement du top 10 des pays au fil des années')\n",
    "plt.legend(title='Country', bbox_to_anchor=(1.05, 1), loc='upper left')\n",
    "\n",
    "plt.gca().invert_yaxis()\n",
    "plt.xticks(top_countries['Year'].unique())\n",
    "plt.yticks(range(1, top_countries['Rank'].max() + 1))\n",
    "\n",
    "for country, rank in top_countries.groupby('Country'):\n",
    "    plt.text(rank['Year'].iloc[-1] + 0.5, rank['Rank'].iloc[-1] + 0.25, country, fontsize=10, ha='right', va='center')\n",
    "\n",
    "plt.grid(True)\n",
    "plt.show()\n"
   ],
   "metadata": {
    "collapsed": false
   },
   "id": "d798662fb1aea41c",
   "execution_count": null
  },
  {
   "cell_type": "markdown",
   "source": [
    "# 3. Une carte des pays dont le H-index moyen est supérieur à un seuil choisi par l’utilisateur"
   ],
   "metadata": {
    "collapsed": false
   },
   "id": "373af68cb1f4a461"
  },
  {
   "cell_type": "code",
   "outputs": [],
   "source": [
    "def update_map(hindex):\n",
    "    colorscale = px.colors.sequential.Plasma\n",
    "    filtered_data = data[data['H.index'] >= hindex]\n",
    "    fig = px.choropleth(filtered_data, \n",
    "                        locations='Country', \n",
    "                        locationmode='country names', \n",
    "                        color='H.index', \n",
    "                        color_continuous_scale=colorscale, \n",
    "                        range_color=(0, data['H.index'].max() + 100), \n",
    "                        title=f'Carte du monde dégradé par H.Index (H-index > {hindex})',\n",
    "                        width=1400,\n",
    "                        height=1000, \n",
    "                        hover_data={'H.index': True, 'Country': True}, \n",
    "                       )\n",
    "    \n",
    "    fig.show()\n",
    "    \n",
    "index_slider = widgets.IntSlider(value=data['H.index'].min(), min=data['H.index'].min(), max=data['H.index'].max(), step=1, description='Index supérieur à ')\n",
    "\n",
    "widgets.interactive(update_map, hindex=index_slider)"
   ],
   "metadata": {
    "collapsed": false
   },
   "id": "b1cbd9e9398cffb1",
   "execution_count": null
  },
  {
   "cell_type": "markdown",
   "source": [
    "# 4. Une carte des pays représentant le TOP réalisé plus haut avec le choix de l'année variable"
   ],
   "metadata": {
    "collapsed": false
   },
   "id": "5674b78ba3bf6804"
  },
  {
   "cell_type": "code",
   "outputs": [],
   "source": [
    "def update_map(year):\n",
    "    filtered_data = data[(data['Year'] == year) & (data['Rank'] <= 10)]\n",
    "    \n",
    "    fig = px.choropleth(filtered_data, \n",
    "                        locations='Country', \n",
    "                        locationmode='country names', \n",
    "                        color='Documents',  \n",
    "                        color_continuous_scale='rdbu', \n",
    "                        range_color=(filtered_data['Documents'].min(), filtered_data['Documents'].max()),  \n",
    "                        title=f'Top 10 des pays par production de document sur l\\'année : {year}',\n",
    "                        width=1400,  \n",
    "                        height=1000,  \n",
    "                        hover_data={'Documents': True, 'Country': True}  \n",
    "                       )\n",
    "    \n",
    "    fig.show()\n",
    "\n",
    "year_slider = widgets.IntSlider(value=data['Year'].min(), min=data['Year'].min(), max=data['Year'].max(), step=1, description='Year:')\n",
    "\n",
    "widgets.interactive(update_map, year=year_slider)\n"
   ],
   "metadata": {
    "collapsed": false
   },
   "id": "84a7afa42bfcb57d",
   "execution_count": null
  },
  {
   "cell_type": "code",
   "outputs": [],
   "source": [],
   "metadata": {
    "collapsed": false
   },
   "id": "81df0756d92c1a85",
   "execution_count": null
  }
 ],
 "metadata": {
  "kernelspec": {
   "display_name": "Python 3",
   "language": "python",
   "name": "python3"
  },
  "language_info": {
   "codemirror_mode": {
    "name": "ipython",
    "version": 2
   },
   "file_extension": ".py",
   "mimetype": "text/x-python",
   "name": "python",
   "nbconvert_exporter": "python",
   "pygments_lexer": "ipython2",
   "version": "2.7.6"
  }
 },
 "nbformat": 4,
 "nbformat_minor": 5
}
